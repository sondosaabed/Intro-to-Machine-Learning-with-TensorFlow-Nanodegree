{
 "cells": [
  {
   "cell_type": "code",
   "execution_count": 1,
   "metadata": {
    "grader_id": "anx16m990l7"
   },
   "outputs": [
    {
     "name": "stdout",
     "output_type": "stream",
     "text": [
      "Try again. `h` is not correct.\n"
     ]
    }
   ],
   "source": [
    "import numpy as np\n",
    "def sigmoid(x):\n",
    "    \"\"\"\n",
    "    Calculate sigmoid\n",
    "    \"\"\"\n",
    "    return 1/(1+np.exp(-x))\n",
    "def sigmoid_prime(x):\n",
    "    \"\"\"\n",
    "    # Derivative of the sigmoid function\n",
    "    \"\"\"\n",
    "    return sigmoid(x) * (1 - sigmoid(x))\n",
    "learnrate = 0.5\n",
    "x = np.array([1, 2, 3, 4])\n",
    "y = np.array(0.5)\n",
    "\n",
    "# Initial weights\n",
    "w = np.array([0.5, -0.5, 0.3, 0.1])\n",
    "\n",
    "### Calculate one gradient descent step for each weight\n",
    "### Note: Some steps have been consolidated, so there are\n",
    "###       fewer variable names than in the above sample code\n",
    "# TODO: Calculate the node's linear combination of inputs and weights\n",
    "h = None\n",
    "\n",
    "### Notebook grading\n",
    "import numpy as np\n",
    "x_test = np.array([1, 2, 3, 4])\n",
    "y_test = np.array(0.5)\n",
    "w_test = np.array([0.5, -0.5, 0.3, 0.1])\n",
    "learnrate_test = 0.5\n",
    "\n",
    "h_answer = np.dot(x_test, w_test)\n",
    "if h == h_answer:\n",
    "    print(\"Good job!\")\n",
    "else:\n",
    "    print(\"Try again. `h` is not correct.\")"
   ]
  },
  {
   "cell_type": "code",
   "execution_count": 2,
   "metadata": {
    "grader_id": "ar0y4222psk"
   },
   "outputs": [
    {
     "name": "stdout",
     "output_type": "stream",
     "text": [
      "Try again. `nn_output` is not correct.\n"
     ]
    }
   ],
   "source": [
    "# TODO: Calculate output of neural network\n",
    "nn_output = None\n",
    "\n",
    "### Notebook grading\n",
    "nn_output_answer = 1/(1+np.exp(-np.dot(x_test, w_test)))\n",
    "\n",
    "if nn_output == nn_output_answer:\n",
    "    print(\"Good job!\")\n",
    "else:\n",
    "    print(\"Try again. `nn_output` is not correct.\")"
   ]
  },
  {
   "cell_type": "code",
   "execution_count": 3,
   "metadata": {
    "grader_id": "1ro1h21bi61"
   },
   "outputs": [
    {
     "name": "stdout",
     "output_type": "stream",
     "text": [
      "Try again. `error` is not correct.\n"
     ]
    }
   ],
   "source": [
    "# TODO: Calculate error of neural network\n",
    "error = None\n",
    "\n",
    "### Notebook grading\n",
    "error_answer = y_test - nn_output_answer\n",
    "\n",
    "if error == error_answer:\n",
    "    print(\"Good job!\")\n",
    "else:\n",
    "    print(\"Try again. `error` is not correct.\")"
   ]
  },
  {
   "cell_type": "code",
   "execution_count": 4,
   "metadata": {
    "grader_id": "ql0e36hfb1"
   },
   "outputs": [
    {
     "name": "stdout",
     "output_type": "stream",
     "text": [
      "Try again. `error_term` is not correct.\n"
     ]
    }
   ],
   "source": [
    "# TODO: Calculate the error term\n",
    "#       Remember, this requires the output gradient, which we haven't\n",
    "#       specifically added a variable for.\n",
    "error_term = None\n",
    "\n",
    "### Notebook grading\n",
    "error_term_answer = error_answer * nn_output_answer * (1 - nn_output_answer)\n",
    "\n",
    "if error_term == error_term_answer:\n",
    "    print(\"Good job!\")\n",
    "else:\n",
    "    print(\"Try again. `error_term` is not correct.\")"
   ]
  },
  {
   "cell_type": "code",
   "execution_count": 5,
   "metadata": {
    "grader_id": "omb6daa1wh8",
    "scrolled": true
   },
   "outputs": [
    {
     "name": "stdout",
     "output_type": "stream",
     "text": [
      "Neural Network output:\n",
      "None\n",
      "Amount of Error:\n",
      "None\n",
      "Change in Weights:\n",
      "[0 0 0 0]\n",
      "Try again. `del_w` is not correct.\n"
     ]
    }
   ],
   "source": [
    "# TODO: Calculate change in weights\n",
    "del_w = np.array([0,0,0,0]) # replace with your code\n",
    "\n",
    "# Optional print\n",
    "print('Neural Network output:')\n",
    "print(nn_output)\n",
    "print('Amount of Error:')\n",
    "print(error)\n",
    "print('Change in Weights:')\n",
    "print(del_w)\n",
    "\n",
    "### Notebook grading\n",
    "del_w_answer = learnrate_test * error_answer * nn_output_answer * (1 - nn_output_answer) * x_test\n",
    "\n",
    "test = del_w == del_w_answer\n",
    "if test.all():\n",
    "    print(\"Good job!\")\n",
    "else:\n",
    "    print(\"Try again. `del_w` is not correct.\")"
   ]
  },
  {
   "cell_type": "code",
   "execution_count": 6,
   "metadata": {},
   "outputs": [
    {
     "name": "stdout",
     "output_type": "stream",
     "text": [
      "Neural Network output:\n",
      "0.6899744811276125\n",
      "Amount of Error:\n",
      "-0.1899744811276125\n",
      "Change in Weights:\n",
      "[-0.02031869 -0.04063738 -0.06095608 -0.08127477]\n"
     ]
    }
   ],
   "source": [
    "import numpy as np\n",
    "\n",
    "def sigmoid(x):\n",
    "    \"\"\"\n",
    "    Calculate sigmoid\n",
    "    \"\"\"\n",
    "    return 1 / (1 + np.exp(-x))\n",
    "\n",
    "def sigmoid_prime(x):\n",
    "    \"\"\"\n",
    "    # Derivative of the sigmoid function\n",
    "    \"\"\"\n",
    "    return sigmoid(x) * (1 - sigmoid(x))\n",
    "\n",
    "learnrate = 0.5\n",
    "x = np.array([1, 2, 3, 4])\n",
    "y = np.array(0.5)\n",
    "\n",
    "# Initial weights\n",
    "w = np.array([0.5, -0.5, 0.3, 0.1])\n",
    "\n",
    "### Calculate one gradient descent step for each weight\n",
    "### Note: Some steps have been consolidated, so there are\n",
    "###       fewer variable names than in the above sample code\n",
    "# TODO: Calculate the node's linear combination of inputs and weights\n",
    "h = np.dot(x, w)\n",
    "\n",
    "# TODO: Calculate output of neural network\n",
    "nn_output = sigmoid(h)\n",
    "\n",
    "# TODO: Calculate error of neural network\n",
    "error = y - nn_output\n",
    "\n",
    "# TODO: Calculate the error term\n",
    "#       Remember, this requires the output gradient, which we haven't\n",
    "#       specifically added a variable for.\n",
    "error_term = error * sigmoid_prime(h)\n",
    "\n",
    "# Note: The sigmoid_prime function calculates sigmoid(h) twice,\n",
    "#       but you've already calculated it once. You can make this\n",
    "#       code more efficient by calculating the derivative directly\n",
    "#       rather than calling sigmoid_prime, like this:\n",
    "# error_term = error  *nn_output*  (1 - nn_output)\n",
    "\n",
    "# TODO: Calculate change in weights\n",
    "del_w = learnrate  *error_term*  x\n",
    "\n",
    "print('Neural Network output:')\n",
    "print(nn_output)\n",
    "print('Amount of Error:')\n",
    "print(error)\n",
    "print('Change in Weights:')\n",
    "print(del_w)"
   ]
  }
 ],
 "metadata": {
  "kernelspec": {
   "display_name": "Python 3 (ipykernel)",
   "language": "python",
   "name": "python3"
  },
  "language_info": {
   "codemirror_mode": {
    "name": "ipython",
    "version": 3
   },
   "file_extension": ".py",
   "mimetype": "text/x-python",
   "name": "python",
   "nbconvert_exporter": "python",
   "pygments_lexer": "ipython3",
   "version": "3.10.13"
  }
 },
 "nbformat": 4,
 "nbformat_minor": 2
}
