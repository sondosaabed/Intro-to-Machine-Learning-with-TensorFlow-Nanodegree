{
 "cells": [
  {
   "cell_type": "code",
   "execution_count": 2,
   "metadata": {
    "grader_id": "z8t696bptq8"
   },
   "outputs": [
    {
     "name": "stdout",
     "output_type": "stream",
     "text": [
      "Correct!\n"
     ]
    }
   ],
   "source": [
    "import numpy as np\n",
    "\n",
    "# TODO: complete the function\n",
    "def softmax(L):\n",
    "    \"\"\"\n",
    "    This function takes as input a list of numbers, and returns the list\n",
    "    of values given by the softmax function.\n",
    "    \"\"\"\n",
    "    exp_L = np.exp(L)\n",
    "    return list(np.divide(exp_L, exp_L.sum()))\n",
    "\n",
    "### Notebook grading\n",
    "    \n",
    "def correct_softmax(L):\n",
    "    exp_L = np.exp(L)\n",
    "    return list(np.divide(exp_L, exp_L.sum()))\n",
    "\n",
    "L_test = [5,6,7]\n",
    "solution = correct_softmax(L_test)\n",
    "trial = softmax(L_test)\n",
    "\n",
    "if len(trial) != len(solution):\n",
    "    print(\"Hmm... there must be a mistake. Trying for L={}. The \\\n",
    "length of the correct result is {} but the list returned by your code \\\n",
    "is of length {}\".format(\n",
    "        L_test,\n",
    "        len(solution),\n",
    "        len(trial)\n",
    "    ))\n",
    "elif np.allclose(trial, solution):\n",
    "    print(\"Correct!\")\n",
    "else:\n",
    "    print(\"Hmm... there must be a mistake. Trying for L={}. The \\\n",
    "correct answer is {} and your code returned {}\".format(\n",
    "        L_test,\n",
    "        solution,\n",
    "        trial\n",
    "    ))"
   ]
  },
  {
   "cell_type": "code",
   "execution_count": null,
   "metadata": {},
   "outputs": [],
   "source": []
  }
 ],
 "metadata": {
  "kernelspec": {
   "display_name": "Python 3 (ipykernel)",
   "language": "python",
   "name": "python3"
  },
  "language_info": {
   "codemirror_mode": {
    "name": "ipython",
    "version": 3
   },
   "file_extension": ".py",
   "mimetype": "text/x-python",
   "name": "python",
   "nbconvert_exporter": "python",
   "pygments_lexer": "ipython3",
   "version": "3.10.13"
  }
 },
 "nbformat": 4,
 "nbformat_minor": 2
}
