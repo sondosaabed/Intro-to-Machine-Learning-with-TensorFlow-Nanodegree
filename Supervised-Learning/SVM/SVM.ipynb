{
 "cells": [
  {
   "cell_type": "code",
   "execution_count": 2,
   "metadata": {},
   "outputs": [],
   "source": [
    "# Import statements \n",
    "from sklearn.svm import SVC\n",
    "from sklearn.metrics import accuracy_score\n",
    "from sklearn.model_selection import train_test_split\n",
    "import pandas as pd\n",
    "import numpy as np"
   ]
  },
  {
   "cell_type": "code",
   "execution_count": 4,
   "metadata": {},
   "outputs": [
    {
     "data": {
      "text/plain": [
       "array([[0.24539, 0.81725, 0.     ],\n",
       "       [0.21774, 0.76462, 0.     ],\n",
       "       [0.20161, 0.69737, 0.     ],\n",
       "       [0.20161, 0.58041, 0.     ],\n",
       "       [0.2477 , 0.49561, 0.     ],\n",
       "       [0.32834, 0.44883, 0.     ],\n",
       "       [0.39516, 0.48099, 0.     ],\n",
       "       [0.39286, 0.57164, 0.     ],\n",
       "       [0.33525, 0.62135, 0.     ],\n",
       "       [0.33986, 0.71199, 0.     ]])"
      ]
     },
     "execution_count": 4,
     "metadata": {},
     "output_type": "execute_result"
    }
   ],
   "source": [
    "# Read the data.\n",
    "data = np.asarray(pd.read_csv('data.csv', header=None))\n",
    "data[:10]"
   ]
  },
  {
   "cell_type": "code",
   "execution_count": 9,
   "metadata": {},
   "outputs": [],
   "source": [
    "# Assign the features to the variable X, and the labels to the variable y. \n",
    "X = data[:, :2]\n",
    "y = data[:, 2:3]"
   ]
  },
  {
   "cell_type": "code",
   "execution_count": 11,
   "metadata": {},
   "outputs": [],
   "source": [
    "# Split data into random train and test subsets.\n",
    "X_train, X_test, y_train, y_test = train_test_split(\n",
    "    X, y, test_size=0.33, random_state=42)"
   ]
  },
  {
   "cell_type": "code",
   "execution_count": 13,
   "metadata": {},
   "outputs": [
    {
     "name": "stderr",
     "output_type": "stream",
     "text": [
      "/opt/venv/lib/python3.10/site-packages/sklearn/utils/validation.py:1229: DataConversionWarning: A column-vector y was passed when a 1d array was expected. Please change the shape of y to (n_samples, ), for example using ravel().\n",
      "  y = column_or_1d(y, warn=True)\n"
     ]
    },
    {
     "data": {
      "text/plain": [
       "0.796875"
      ]
     },
     "execution_count": 13,
     "metadata": {},
     "output_type": "execute_result"
    }
   ],
   "source": [
    "# TODO: Create the model and assign it to the variable model.\n",
    "# Find the right parameters for this model to achieve 100% accuracy on the train dataset.\n",
    "model = SVC()\n",
    "\n",
    "# TODO: Fit the model on the train set.\n",
    "model.fit(X_train, y_train)\n",
    "\n",
    "# TODO: Make predictions for the train set. Store them in the variable y_pred.\n",
    "y_pred = model.predict(X_train)\n",
    "\n",
    "# TODO: Calculate the accuracy and assign it to the variable acc.\n",
    "train_acc = accuracy_score(y_pred, y_train)\n",
    "train_acc"
   ]
  },
  {
   "cell_type": "code",
   "execution_count": 14,
   "metadata": {},
   "outputs": [
    {
     "data": {
      "text/plain": [
       "0.71875"
      ]
     },
     "execution_count": 14,
     "metadata": {},
     "output_type": "execute_result"
    }
   ],
   "source": [
    "# TODO: Make predictions for the test set. Store them in the variable y_pred.\n",
    "y_pred = model.predict(X_test)\n",
    "\n",
    "# TODO: Calculate the accuracy and assign it to the variable acc.\n",
    "pred_acc = accuracy_score(y_pred, y_test)\n",
    "pred_acc"
   ]
  }
 ],
 "metadata": {
  "kernelspec": {
   "display_name": "Python 3 (ipykernel)",
   "language": "python",
   "name": "python3"
  },
  "language_info": {
   "codemirror_mode": {
    "name": "ipython",
    "version": 3
   },
   "file_extension": ".py",
   "mimetype": "text/x-python",
   "name": "python",
   "nbconvert_exporter": "python",
   "pygments_lexer": "ipython3",
   "version": "3.10.13"
  }
 },
 "nbformat": 4,
 "nbformat_minor": 2
}
