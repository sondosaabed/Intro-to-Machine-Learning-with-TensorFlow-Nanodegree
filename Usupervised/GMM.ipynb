{
 "cells": [
  {
   "cell_type": "code",
   "execution_count": null,
   "metadata": {},
   "outputs": [],
   "source": [
    "from sklearn import datasets, mixture\n",
    "\n",
    "# Load dataset\n",
    "X = datasets.load_iris().data[:10]\n",
    "\n",
    "# Specify the parameters for the clustering\n",
    "gmm = mixture.GaussianMixture(n_components=3)\n",
    "gmm.fit(X)\n",
    "clustering = gmm.predict(X)\n",
    "\n",
    "# \"clustering\" now contains an array representing which\n",
    "# each point belongs to:\n",
    "# [1 0 0 0 1 2 0 1 0 0]"
   ]
  }
 ],
 "metadata": {
  "language_info": {
   "name": "python"
  }
 },
 "nbformat": 4,
 "nbformat_minor": 2
}
