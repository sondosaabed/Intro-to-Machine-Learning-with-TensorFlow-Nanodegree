{
 "cells": [
  {
   "cell_type": "code",
   "execution_count": null,
   "metadata": {},
   "outputs": [],
   "source": [
    "from sklearn import datasets, cluster\n",
    "\n",
    "# Load dataset\n",
    "X = datasets.load_iris().data\n",
    "\n",
    "# Specify the parameters for the clustering. There are the defaults.\n",
    "db = cluster.DBSCAN(eps=0.5, min_samples=5)\n",
    "db.fit(X)\n",
    "\n",
    "\n",
    "# 'db.labels_' now contains an array representing which cluster each point belongs to. \n",
    "# Samples labeled '-1' are noise."
   ]
  }
 ],
 "metadata": {
  "language_info": {
   "name": "python"
  }
 },
 "nbformat": 4,
 "nbformat_minor": 2
}
