{
 "cells": [
  {
   "cell_type": "code",
   "execution_count": null,
   "metadata": {},
   "outputs": [],
   "source": [
    "from sklearn import datasets, cluster\n",
    "\n",
    "# load data\n",
    "X = datasets.load_iris().data[:10]\n",
    "\n",
    "# Spefify the parameters for the clustering. \n",
    "# 'ward' linkage is default. Can also use 'complete' or 'average'.\n",
    "clust = cluster.AgglomerativeClustering(n_cluster=3, linkage='ward')\n",
    "labels = clust.fit_predict(X)\n",
    "\n",
    "# 'labels' now contains an array representing which cluster \n",
    "# each point belongs to:\n",
    "# [1 0 0 0 1 2 0 1 0 0]\n"
   ]
  },
  {
   "cell_type": "code",
   "execution_count": null,
   "metadata": {},
   "outputs": [],
   "source": [
    "from scipy.cluster.hierarchy import dendrogram, ward, single\n",
    "from sklearn import datasets\n",
    "import matplotlib.pyplot as plt\n",
    "\n",
    "# Load dataset\n",
    "X = datasets.load_iris().data[:10]\n",
    "\n",
    "# Perform clustering\n",
    "linkage_matrix = ward(X)\n",
    "\n",
    "# plot dendrogram\n",
    "dendrogram(linkage_matrix)\n",
    "plt.show()"
   ]
  }
 ],
 "metadata": {
  "language_info": {
   "name": "python"
  }
 },
 "nbformat": 4,
 "nbformat_minor": 2
}
